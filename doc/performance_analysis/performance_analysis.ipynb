{
 "cells": [
  {
   "attachments": {},
   "cell_type": "markdown",
   "metadata": {},
   "source": [
    "# Analysis of the performance test results.\n",
    "The measurement is done by the fluid application itself, the define PERFORMANCE_TEST has to be set for this.  \n",
    "See the CMakeLists.txt how to set it.  \n",
    "The results are then saved in a csv-file."
   ]
  },
  {
   "cell_type": "code",
   "execution_count": 1,
   "metadata": {},
   "outputs": [],
   "source": [
    "from matplotlib import pyplot as plt\n",
    "import pandas as pd"
   ]
  },
  {
   "attachments": {},
   "cell_type": "markdown",
   "metadata": {},
   "source": [
    "## Import the data."
   ]
  },
  {
   "cell_type": "code",
   "execution_count": null,
   "metadata": {},
   "outputs": [],
   "source": [
    "# The here defined number of particles need to match with the order of the provided filenames.\n",
    "number_of_particles = [216, 512, 1000, 1728, 4096]\n",
    "# We analyse four different computation modes:\n",
    "# 1. brute force implementation, one thread\n",
    "# 2. brute force implementation, eight threads\n",
    "# 3. spatial grid implementation, one thread\n",
    "# 4. spatial grid implementation, eight threads\n",
    "# For each we have multiple number of files, these are for the different number of particles.\n",
    "filenames_brute_force_one_thread = [\n",
    "    \"./data/brute_force_one_thread_216_particles.csv\",\n",
    "    \"./data/brute_force_one_thread_512_particles.csv\",\n",
    "    \"./data/brute_force_one_thread_1000_particles.csv\",\n",
    "    \"./data/brute_force_one_thread_1728_particles.csv\",\n",
    "    \"./data/brute_force_one_thread_4096_particles.csv\"\n",
    "]\n",
    "filenames_brute_force_eight_threads = [\n",
    "    \"./data/brute_force_eight_threads_216_particles.csv\",\n",
    "    \"./data/brute_force_eight_threads_512_particles.csv\",\n",
    "    \"./data/brute_force_eight_threads_1000_particles.csv\",\n",
    "    \"./data/brute_force_eight_threads_1728_particles.csv\",\n",
    "    \"./data/brute_force_eight_threads_4096_particles.csv\"\n",
    "]\n",
    "filenames_spatial_grid_one_thread = [\n",
    "    \"./data/spatial_grid_one_thread_216_particles.csv\",\n",
    "    \"./data/spatial_grid_one_thread_512_particles.csv\",\n",
    "    \"./data/spatial_grid_one_thread_1000_particles.csv\",\n",
    "    \"./data/spatial_grid_one_thread_1728_particles.csv\",\n",
    "    \"./data/spatial_grid_one_thread_4096_particles.csv\"\n",
    "]\n",
    "filenames_spatial_grid_eight_threads = [\n",
    "    \"./data/spatial_grid_eight_threads_216_particles.csv\",\n",
    "    \"./data/spatial_grid_eight_threads_512_particles.csv\",\n",
    "    \"./data/spatial_grid_eight_threads_1000_particles.csv\",\n",
    "    \"./data/spatial_grid_eight_threads_1728_particles.csv\",\n",
    "    \"./data/spatial_grid_eight_threads_4096_particles.csv\"\n",
    "]"
   ]
  },
  {
   "cell_type": "code",
   "execution_count": null,
   "metadata": {},
   "outputs": [],
   "source": [
    "# Each imported file has multiple rows. The entry in the function column indicates what function\n",
    "# was measured. We need to map this function name to a better understandable name / a name that we \n",
    "# can use in the documentation.\n",
    "function_name_to_task = {\n",
    "    \"application_handler.simulation_handler.simulate()\": \"total simulation time\",\n",
    "    \"application_handler.visualization_handler.visualize()\": \"total visualization time\",\n",
    "    \"this->parallel_for(&Particle_System::calculate_density_pressure_brute_force, this->number_of_particles)\": \"brute force: time for density and pressure calculation\",\n",
    "    \"this->parallel_for(&Particle_System::calculate_acceleration_brute_force, this->number_of_particles)\": \"brute force: time for force and acceleration calculation\",\n",
    "    \"this->parallel_for(&Particle_System::calculate_verlet_step_brute_force, this->number_of_particles)\": \"brute force: time for time integration\",\n",
    "    \"this->parallel_for_grid(&Particle_System::calculate_density_pressure_spatial_grid)\": \"spatial grid: time for density and pressure calculation\",\n",
    "    \"this->parallel_for_grid(&Particle_System::calculate_acceleration_spatial_grid)\": \"spatial grid: time for force and acceleration calculation\",\n",
    "    \"this->parallel_for_grid(&Particle_System::calculate_verlet_step_spatial_grid)\": \"spatial grid: time for time integration\"\n",
    "}"
   ]
  }
 ],
 "metadata": {
  "kernelspec": {
   "display_name": "base",
   "language": "python",
   "name": "python3"
  },
  "language_info": {
   "codemirror_mode": {
    "name": "ipython",
    "version": 3
   },
   "file_extension": ".py",
   "mimetype": "text/x-python",
   "name": "python",
   "nbconvert_exporter": "python",
   "pygments_lexer": "ipython3",
   "version": "3.9.13"
  },
  "orig_nbformat": 4
 },
 "nbformat": 4,
 "nbformat_minor": 2
}
